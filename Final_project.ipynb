{
 "cells": [
  {
   "cell_type": "code",
   "execution_count": 1,
   "metadata": {},
   "outputs": [],
   "source": [
    "import struct\n",
    "import numpy as np\n",
    "import pandas as pd  \n",
    "import random\n",
    "import matplotlib.pyplot as plt\n",
    "from math import *\n",
    "from astropy.io import fits\n",
    "import astropy.constants as c\n",
    "import astropy.units as u\n",
    "import scipy.constants as spc\n",
    "\n",
    "from scipy.integrate import odeint\n",
    "from scipy.integrate import solve_ivp"
   ]
  },
  {
   "cell_type": "markdown",
   "metadata": {},
   "source": [
    "<font color=black size=3 face=Times>\n",
    "1.binary in isothermal potential \n",
    "\n",
    "isothermal potential $\\phi=2\\sigma^2\\ln(r)+const$\n",
    "\n",
    "$$\n",
    "\\frac{d}{dt^{\\prime}}\n",
    "\\left(\n",
    " \\begin{matrix}\n",
    "   x^{\\prime}\\\\\n",
    "   y^{\\prime}\\\\\n",
    "   z^{\\prime}\\\\\n",
    "   v^{\\prime}_x\\\\\n",
    "   v^{\\prime}_y\\\\\n",
    "   v^{\\prime}_z\n",
    "  \\end{matrix}\n",
    "\\right)\n",
    "=\n",
    "\\left(\n",
    " \\begin{matrix}\n",
    "   v^{\\prime}_x\\\\\n",
    "   v^{\\prime}_y\\\\\n",
    "   v^{\\prime}_z\\\\\n",
    "   -\\frac{x^{\\prime}}{x^{\\prime2}+y^{\\prime2}+z^{\\prime2}}\\\\\n",
    "   -\\frac{y^{\\prime}}{x^{\\prime2}+y^{\\prime2}+z^{\\prime2}}\\\\\n",
    "   -\\frac{z^{\\prime}}{x^{\\prime2}+y^{\\prime2}+z^{\\prime2}}\\\\\n",
    "  \\end{matrix}\n",
    "\\right)\n",
    "$$\n",
    "\n",
    "normalization：\n",
    "\n",
    "${\\bf{r}}^{\\prime}={\\bf{r}}/R_c$\n",
    "\n",
    "$t^{\\prime}=t/\\frac{R_c}{\\sqrt{2}\\sigma}$\n",
    "\n",
    "$R_c=\\frac{GM_c}{2\\sigma^2}$"
   ]
  },
  {
   "cell_type": "code",
   "execution_count": 2,
   "metadata": {},
   "outputs": [],
   "source": [
    "def diff_equation1( x_list , t ):\n",
    "    x,y,z,vx,vy,vz=x_list\n",
    "    return np.array([ vx , vy , vz , -x/(x**2+y**2+z**2) ,  -y/(x**2+y**2+z**2) , -z/(x**2+y**2+z**2) ])"
   ]
  },
  {
   "cell_type": "markdown",
   "metadata": {},
   "source": [
    "<font color=black size=3 face=Times>\n",
    "2. dynamical friction\n",
    "    \n",
    "$$\n",
    "\\frac{d{\\bf{v}}_M}{dt}=D[\\Delta{\\bf{v}}]\n",
    "$$\n",
    "\n",
    "$$\n",
    "\\frac{d{\\bf{v}}_M}{dt}=-\\frac{4\\pi G^2M\\rho \\ln{\\Lambda}}{v^3_M}[erf(X)-\\frac{2X}{\\sqrt{\\pi}}e^{-X^2}]{\\bf{v}}_M\n",
    "$$\n",
    "where, $\\rho=\\frac{\\sigma^2}{2\\pi Gr^2}$, $\\Lambda=N?$, $X=v_M/\\sqrt{2}\\sigma$, use normalization\n",
    "\n",
    "$$\n",
    "\\frac{d{\\bf{v}}_M^{\\prime}}{dt^{\\prime}}=-\\frac{M^{\\prime}\\ln\\Lambda}{v^{\\prime3}_M r^{\\prime2}}[erf(X)-\\frac{2X}{\\sqrt{\\pi}}e^{-X^2}]{\\bf{v}}^{\\prime}_M\n",
    "$$\n",
    "where $M^{\\prime}=M/M_c$\n"
   ]
  },
  {
   "cell_type": "code",
   "execution_count": 3,
   "metadata": {},
   "outputs": [],
   "source": [
    "M_prime=20/10**5\n",
    "Lambda=10**5\n",
    "\n",
    "def diff_equation2( x_list , t ):\n",
    "    x,y,z,vx,vy,vz=x_list\n",
    "    \n",
    "    v_m=sqrt(vx**2+vy**2+vz**2)\n",
    "    r=sqrt(x**2+y**2+z**2)\n",
    "    \n",
    "#     Lambda=r/M_prime\n",
    "    a_f=M_prime*log(Lambda)/v_m**3/r**2*(erf(v_m)-2*v_m/sqrt(pi)*e**(-v_m**2))\n",
    "    \n",
    "    return np.array([ vx , vy , vz , -x/r**2-a_f*vx ,  -y/r**2-a_f*vy , -z/r**2-a_f*vz ])"
   ]
  },
  {
   "cell_type": "markdown",
   "metadata": {},
   "source": [
    "$a' = a/R_c \\qquad \\frac{dP}{dt'}=\\frac{M'a'\\Lambda}{16 \\sqrt{(1+2*v'^2)} \\, r'^2} \\qquad \\delta v'  = \\sqrt{\\frac{0.05 }{a'\\Lambda }} \\qquad \\delta a' = - \\frac{2}{7}a'$"
   ]
  },
  {
   "cell_type": "code",
   "execution_count": 4,
   "metadata": {},
   "outputs": [],
   "source": [
    "M_prime=20/10**5\n",
    "Lambda=1*10**5\n",
    "ep = 0.01\n",
    "\n",
    "def diff_equation3(t, x_list):\n",
    "    x,y,z,vx,vy,vz,P,a=x_list\n",
    "    \n",
    "    v_m=sqrt(vx**2+vy**2+vz**2)\n",
    "    r=sqrt(x**2+y**2+z**2)\n",
    "    \n",
    "    a_f = M_prime*log(Lambda)/v_m**3/(r**2+ep**2)*(erf(v_m)-2*v_m/sqrt(pi)*e**(-v_m**2))\n",
    "    \n",
    "    dP = M_prime*a*Lambda/(16*sqrt(1+2*v_m**2)*(r**2+ep**2))\n",
    "    \n",
    "    return np.array([ vx , vy , vz , -x/(r**2+ep**2)-a_f*vx,  -y/(r**2+ep**2)-a_f*vy, -z/(r**2+ep**2)-a_f*vz, dP , 0 ])\n",
    "\n",
    "def encounter(t, y):\n",
    "    return y[6]-1"
   ]
  },
  {
   "cell_type": "code",
   "execution_count": null,
   "metadata": {},
   "outputs": [],
   "source": [
    "tspan = [0, 2000]\n",
    "ini3=[0.5,0,0,0,0.5,0.5,0,(0.1*u.au/u.pc).cgs]\n",
    "Result=[[],[],[],[],[],[],[],[],[]]\n",
    "\n",
    "for i in range(10):\n",
    "    \n",
    "    encounter.terminal = True\n",
    "\n",
    "    result3=solve_ivp(diff_equation3,tspan,ini3,'RK45',events=encounter,max_step=0.01)\n",
    "    result3t = result3.t\n",
    "    result3y = result3.y\n",
    "    re1 = np.vstack((result3t,result3y))\n",
    "    Result = np.hstack((Result,re1))\n",
    "    \n",
    "    ye = result3y[:,-1]\n",
    "    a = ye[7]\n",
    "    \n",
    "    if len(result3.t_events[0]) !=0:\n",
    "        \n",
    "        t0 = result3.t_events[0][0]\n",
    "        e0 = np.random.random(3)\n",
    "        e1 = e0/np.linalg.norm(e0)\n",
    "        dvx, dvy, dvz = sqrt(0.05/a/Lambda)*e1[0], sqrt(0.05/a/Lambda)*e1[1], sqrt(0.05/a/Lambda)*e1[2]\n",
    "        da = -2/7*a\n",
    "        ye[6] = 0\n",
    "        \n",
    "    else:\n",
    "        t0 =result3t[-1]\n",
    "        dvx, dvy, dvz, da = 0, 0, 0, 0\n",
    "        \n",
    "    ye[3], ye[4], ye[5], ye[7] = ye[3]+dvx, ye[4]+dvy, ye[5]+dvz, a+da\n",
    "    tspan = [t0, t0+2000.0]\n",
    "    ini3 = ye"
   ]
  },
  {
   "cell_type": "code",
   "execution_count": 68,
   "metadata": {},
   "outputs": [
    {
     "data": {
      "image/png": "[encoded data removed]",
      "text/plain": [
       "<Figure size 1440x540 with 2 Axes>"
      ]
     },
     "metadata": {},
     "output_type": "display_data"
    }
   ],
   "source": [
    "r_list3=np.sqrt(Result[1,:]**2+Result[2,:]**2+Result[3,:]**2)\n",
    "v_list3=np.sqrt(Result[4,:]**2+Result[5,:]**2+Result[6,:]**2)\n",
    "t, P_list3, a_list3=Result[0,:], Result[7,:], Result[8,:]\n",
    "\n",
    "fig = plt.figure(figsize=(20,7.5))\n",
    "\n",
    "ax1=fig.add_subplot(121)\n",
    "ax1.plot(t,r_list3)\n",
    "plt.xlim([0,1500])\n",
    "ax1.set_ylabel(' ',fontsize=16)\n",
    "ax1.set_title(' ',fontsize=16)\n",
    "\n",
    "ax1=fig.add_subplot(122)\n",
    "ax1.plot(t,a_list3)\n",
    "ax1.set_ylabel('')\n",
    "ax1.set_ylabel(' ',fontsize=16)\n",
    "ax1.set_title(' ',fontsize=16)\n",
    "plt.savefig('1.png')\n",
    "plt.show()"
   ]
  },
  {
   "cell_type": "code",
   "execution_count": null,
   "metadata": {},
   "outputs": [],
   "source": []
  }
 ],
 "metadata": {
  "kernelspec": {
   "display_name": "Python 3",
   "language": "python",
   "name": "python3"
  },
  "language_info": {
   "codemirror_mode": {
    "name": "ipython",
    "version": 3
   },
   "file_extension": ".py",
   "mimetype": "text/x-python",
   "name": "python",
   "nbconvert_exporter": "python",
   "pygments_lexer": "ipython3",
   "version": "3.6.5"
  }
 },
 "nbformat": 4,
 "nbformat_minor": 2
}
